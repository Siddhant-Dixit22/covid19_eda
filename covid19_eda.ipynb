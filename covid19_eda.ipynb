{
 "cells": [
  {
   "cell_type": "markdown",
   "id": "a3a9e935",
   "metadata": {},
   "source": [
    "# COVID-19 Data Exploratory Data Analysis (EDA)\n",
    "\n",
    "## 1. Introduction\n",
    "\n",
    "This project performs an Exploratory Data Analysis (EDA) on a publicly available COVID-19 dataset that tracks confirmed cases and deaths by county across the United States. The dataset includes daily counts of cases and deaths reported at the county level, along with associated geographic and temporal information.\n",
    "\n",
    "The main goals of this analysis are to:\n",
    "\n",
    "- Understand the structure and contents of the dataset\n",
    "- Clean the data and handle any missing or inconsistent values\n",
    "- Summarize key statistics (e.g., total cases, deaths, trends over time)\n",
    "- Identify which counties or states were most affected\n",
    "- Visualize trends and patterns over time and across regions\n",
    "- Explore relationships between different features (e.g., cases vs. deaths)\n",
    "\n",
    "This project will use Python libraries such as **Pandas** for data manipulation, **Matplotlib** and **Seaborn** for visualization, and basic statistical methods to uncover insights from the data."
   ]
  },
  {
   "cell_type": "markdown",
   "id": "e6928b11",
   "metadata": {},
   "source": [
    "## 2. Load and Inspect the Data"
   ]
  },
  {
   "cell_type": "code",
   "execution_count": 73,
   "id": "2ae24fc1",
   "metadata": {},
   "outputs": [
    {
     "data": {
      "text/html": [
       "<div>\n",
       "<style scoped>\n",
       "    .dataframe tbody tr th:only-of-type {\n",
       "        vertical-align: middle;\n",
       "    }\n",
       "\n",
       "    .dataframe tbody tr th {\n",
       "        vertical-align: top;\n",
       "    }\n",
       "\n",
       "    .dataframe thead th {\n",
       "        text-align: right;\n",
       "    }\n",
       "</style>\n",
       "<table border=\"1\" class=\"dataframe\">\n",
       "  <thead>\n",
       "    <tr style=\"text-align: right;\">\n",
       "      <th></th>\n",
       "      <th>date</th>\n",
       "      <th>county</th>\n",
       "      <th>state</th>\n",
       "      <th>fips</th>\n",
       "      <th>cases</th>\n",
       "      <th>deaths</th>\n",
       "    </tr>\n",
       "  </thead>\n",
       "  <tbody>\n",
       "    <tr>\n",
       "      <th>0</th>\n",
       "      <td>2020-01-21</td>\n",
       "      <td>Snohomish</td>\n",
       "      <td>Washington</td>\n",
       "      <td>53061.0</td>\n",
       "      <td>1</td>\n",
       "      <td>0.0</td>\n",
       "    </tr>\n",
       "    <tr>\n",
       "      <th>1</th>\n",
       "      <td>2020-01-22</td>\n",
       "      <td>Snohomish</td>\n",
       "      <td>Washington</td>\n",
       "      <td>53061.0</td>\n",
       "      <td>1</td>\n",
       "      <td>0.0</td>\n",
       "    </tr>\n",
       "    <tr>\n",
       "      <th>2</th>\n",
       "      <td>2020-01-23</td>\n",
       "      <td>Snohomish</td>\n",
       "      <td>Washington</td>\n",
       "      <td>53061.0</td>\n",
       "      <td>1</td>\n",
       "      <td>0.0</td>\n",
       "    </tr>\n",
       "    <tr>\n",
       "      <th>3</th>\n",
       "      <td>2020-01-24</td>\n",
       "      <td>Cook</td>\n",
       "      <td>Illinois</td>\n",
       "      <td>17031.0</td>\n",
       "      <td>1</td>\n",
       "      <td>0.0</td>\n",
       "    </tr>\n",
       "    <tr>\n",
       "      <th>4</th>\n",
       "      <td>2020-01-24</td>\n",
       "      <td>Snohomish</td>\n",
       "      <td>Washington</td>\n",
       "      <td>53061.0</td>\n",
       "      <td>1</td>\n",
       "      <td>0.0</td>\n",
       "    </tr>\n",
       "  </tbody>\n",
       "</table>\n",
       "</div>"
      ],
      "text/plain": [
       "         date     county       state     fips  cases  deaths\n",
       "0  2020-01-21  Snohomish  Washington  53061.0      1     0.0\n",
       "1  2020-01-22  Snohomish  Washington  53061.0      1     0.0\n",
       "2  2020-01-23  Snohomish  Washington  53061.0      1     0.0\n",
       "3  2020-01-24       Cook    Illinois  17031.0      1     0.0\n",
       "4  2020-01-24  Snohomish  Washington  53061.0      1     0.0"
      ]
     },
     "execution_count": 73,
     "metadata": {},
     "output_type": "execute_result"
    }
   ],
   "source": [
    "# Import necessary libraries\n",
    "import pandas as pd\n",
    "import numpy as np\n",
    "\n",
    "# Load the dataset\n",
    "df = pd.read_csv(\"us-counties.csv\")\n",
    "\n",
    "# Display the first 5 rows of the dataset\n",
    "df.head()\n"
   ]
  },
  {
   "cell_type": "code",
   "execution_count": 74,
   "id": "d3042da2",
   "metadata": {},
   "outputs": [
    {
     "name": "stdout",
     "output_type": "stream",
     "text": [
      "Dataset shape: (2502832, 6)\n"
     ]
    }
   ],
   "source": [
    "print(\"Dataset shape:\", df.shape)"
   ]
  },
  {
   "cell_type": "code",
   "execution_count": 75,
   "id": "ff5cc2f0",
   "metadata": {},
   "outputs": [
    {
     "name": "stdout",
     "output_type": "stream",
     "text": [
      "Columns in dataset:\n",
      "['date', 'county', 'state', 'fips', 'cases', 'deaths']\n"
     ]
    }
   ],
   "source": [
    "print(\"Columns in dataset:\")\n",
    "print(df.columns.tolist())"
   ]
  },
  {
   "cell_type": "code",
   "execution_count": 76,
   "id": "3780cd31",
   "metadata": {},
   "outputs": [
    {
     "name": "stdout",
     "output_type": "stream",
     "text": [
      "<class 'pandas.core.frame.DataFrame'>\n",
      "RangeIndex: 2502832 entries, 0 to 2502831\n",
      "Data columns (total 6 columns):\n",
      " #   Column  Dtype  \n",
      "---  ------  -----  \n",
      " 0   date    object \n",
      " 1   county  object \n",
      " 2   state   object \n",
      " 3   fips    float64\n",
      " 4   cases   int64  \n",
      " 5   deaths  float64\n",
      "dtypes: float64(2), int64(1), object(3)\n",
      "memory usage: 114.6+ MB\n"
     ]
    }
   ],
   "source": [
    "df.info()"
   ]
  },
  {
   "cell_type": "code",
   "execution_count": 77,
   "id": "6729e8a5",
   "metadata": {},
   "outputs": [
    {
     "data": {
      "text/html": [
       "<div>\n",
       "<style scoped>\n",
       "    .dataframe tbody tr th:only-of-type {\n",
       "        vertical-align: middle;\n",
       "    }\n",
       "\n",
       "    .dataframe tbody tr th {\n",
       "        vertical-align: top;\n",
       "    }\n",
       "\n",
       "    .dataframe thead th {\n",
       "        text-align: right;\n",
       "    }\n",
       "</style>\n",
       "<table border=\"1\" class=\"dataframe\">\n",
       "  <thead>\n",
       "    <tr style=\"text-align: right;\">\n",
       "      <th></th>\n",
       "      <th>fips</th>\n",
       "      <th>cases</th>\n",
       "      <th>deaths</th>\n",
       "    </tr>\n",
       "  </thead>\n",
       "  <tbody>\n",
       "    <tr>\n",
       "      <th>count</th>\n",
       "      <td>2.479154e+06</td>\n",
       "      <td>2.502832e+06</td>\n",
       "      <td>2.445227e+06</td>\n",
       "    </tr>\n",
       "    <tr>\n",
       "      <th>mean</th>\n",
       "      <td>3.139958e+04</td>\n",
       "      <td>1.003380e+04</td>\n",
       "      <td>1.616100e+02</td>\n",
       "    </tr>\n",
       "    <tr>\n",
       "      <th>std</th>\n",
       "      <td>1.634251e+04</td>\n",
       "      <td>4.752522e+04</td>\n",
       "      <td>8.203335e+02</td>\n",
       "    </tr>\n",
       "    <tr>\n",
       "      <th>min</th>\n",
       "      <td>1.001000e+03</td>\n",
       "      <td>0.000000e+00</td>\n",
       "      <td>0.000000e+00</td>\n",
       "    </tr>\n",
       "    <tr>\n",
       "      <th>25%</th>\n",
       "      <td>1.902300e+04</td>\n",
       "      <td>3.820000e+02</td>\n",
       "      <td>6.000000e+00</td>\n",
       "    </tr>\n",
       "    <tr>\n",
       "      <th>50%</th>\n",
       "      <td>3.001100e+04</td>\n",
       "      <td>1.773000e+03</td>\n",
       "      <td>3.300000e+01</td>\n",
       "    </tr>\n",
       "    <tr>\n",
       "      <th>75%</th>\n",
       "      <td>4.611100e+04</td>\n",
       "      <td>5.884000e+03</td>\n",
       "      <td>1.010000e+02</td>\n",
       "    </tr>\n",
       "    <tr>\n",
       "      <th>max</th>\n",
       "      <td>7.803000e+04</td>\n",
       "      <td>2.908425e+06</td>\n",
       "      <td>4.026700e+04</td>\n",
       "    </tr>\n",
       "  </tbody>\n",
       "</table>\n",
       "</div>"
      ],
      "text/plain": [
       "               fips         cases        deaths\n",
       "count  2.479154e+06  2.502832e+06  2.445227e+06\n",
       "mean   3.139958e+04  1.003380e+04  1.616100e+02\n",
       "std    1.634251e+04  4.752522e+04  8.203335e+02\n",
       "min    1.001000e+03  0.000000e+00  0.000000e+00\n",
       "25%    1.902300e+04  3.820000e+02  6.000000e+00\n",
       "50%    3.001100e+04  1.773000e+03  3.300000e+01\n",
       "75%    4.611100e+04  5.884000e+03  1.010000e+02\n",
       "max    7.803000e+04  2.908425e+06  4.026700e+04"
      ]
     },
     "execution_count": 77,
     "metadata": {},
     "output_type": "execute_result"
    }
   ],
   "source": [
    "df.describe()"
   ]
  },
  {
   "cell_type": "code",
   "execution_count": 78,
   "id": "8cbc5c63",
   "metadata": {},
   "outputs": [
    {
     "data": {
      "text/plain": [
       "date          0\n",
       "county        0\n",
       "state         0\n",
       "fips      23678\n",
       "cases         0\n",
       "deaths    57605\n",
       "dtype: int64"
      ]
     },
     "execution_count": 78,
     "metadata": {},
     "output_type": "execute_result"
    }
   ],
   "source": [
    "df.isnull().sum()"
   ]
  },
  {
   "cell_type": "markdown",
   "id": "8a0f6a9a",
   "metadata": {},
   "source": [
    "## 3. Data Cleaning"
   ]
  },
  {
   "cell_type": "code",
   "execution_count": 79,
   "id": "f07b8c32",
   "metadata": {},
   "outputs": [],
   "source": [
    "cleaned_df = df.dropna().drop_duplicates()\n"
   ]
  },
  {
   "cell_type": "code",
   "execution_count": 84,
   "id": "edb0dd8b",
   "metadata": {},
   "outputs": [],
   "source": [
    "cleaned_df['date'] = cleaned_df['date'].astype('datetime64[us]')\n",
    "cleaned_df['fips'] = cleaned_df['fips'].astype('Int64')\n",
    "cleaned_df['deaths'] = cleaned_df['deaths'].astype('Int64')\n",
    "cleaned_df['cases'] = cleaned_df['cases'].astype('Int64')"
   ]
  },
  {
   "cell_type": "code",
   "execution_count": 85,
   "id": "a923facb",
   "metadata": {},
   "outputs": [
    {
     "name": "stdout",
     "output_type": "stream",
     "text": [
      "<class 'pandas.core.frame.DataFrame'>\n",
      "Index: 2421549 entries, 0 to 2502831\n",
      "Data columns (total 6 columns):\n",
      " #   Column  Dtype         \n",
      "---  ------  -----         \n",
      " 0   date    datetime64[us]\n",
      " 1   county  object        \n",
      " 2   state   object        \n",
      " 3   fips    Int64         \n",
      " 4   cases   Int64         \n",
      " 5   deaths  Int64         \n",
      "dtypes: Int64(3), datetime64[us](1), object(2)\n",
      "memory usage: 136.3+ MB\n",
      "cases     1\n",
      "deaths    0\n",
      "dtype: Int64\n"
     ]
    }
   ],
   "source": [
    "cleaned_df.info()\n",
    "\n",
    "print(cleaned_df[['cases', 'deaths']].min())"
   ]
  },
  {
   "cell_type": "markdown",
   "id": "25fa3c1a",
   "metadata": {},
   "source": [
    "## 4. Descriptive Statistics and Feature Summary"
   ]
  },
  {
   "cell_type": "code",
   "execution_count": 89,
   "id": "90c33576",
   "metadata": {},
   "outputs": [
    {
     "data": {
      "text/plain": [
       "count       2421549.0\n",
       "mean      9962.526546\n",
       "std      43708.673288\n",
       "min               1.0\n",
       "25%             388.0\n",
       "50%            1814.0\n",
       "75%            6017.0\n",
       "max         2908425.0\n",
       "Name: cases, dtype: Float64"
      ]
     },
     "execution_count": 89,
     "metadata": {},
     "output_type": "execute_result"
    }
   ],
   "source": [
    "cleaned_df['cases'].describe()"
   ]
  },
  {
   "cell_type": "markdown",
   "id": "c07f19c5",
   "metadata": {},
   "source": [
    "Cases:\n",
    "- Min: 1\n",
    "- Max: 2,908,425\n",
    "- Mean: ~9,962\n",
    "- Total: 2,421,549"
   ]
  },
  {
   "cell_type": "code",
   "execution_count": 90,
   "id": "a1704e37",
   "metadata": {},
   "outputs": [
    {
     "data": {
      "text/plain": [
       "count     2421549.0\n",
       "mean     152.166955\n",
       "std      616.672633\n",
       "min             0.0\n",
       "25%             6.0\n",
       "50%            33.0\n",
       "75%           101.0\n",
       "max         32022.0\n",
       "Name: deaths, dtype: Float64"
      ]
     },
     "execution_count": 90,
     "metadata": {},
     "output_type": "execute_result"
    }
   ],
   "source": [
    "cleaned_df['deaths'].describe()"
   ]
  },
  {
   "cell_type": "markdown",
   "id": "3138f924",
   "metadata": {},
   "source": [
    "Deaths:\n",
    "- Min: 0\n",
    "- Max: 32,022\n",
    "- Mean: ~152\n",
    "- Total: 2,421,549"
   ]
  },
  {
   "cell_type": "code",
   "execution_count": 102,
   "id": "51904191",
   "metadata": {},
   "outputs": [
    {
     "data": {
      "text/plain": [
       "county\n",
       "Washington    24215\n",
       "Jefferson     20291\n",
       "Franklin      19457\n",
       "Jackson       18567\n",
       "Lincoln       18529\n",
       "Madison       15570\n",
       "Montgomery    14081\n",
       "Union         13972\n",
       "Clay          13908\n",
       "Marion        13212\n",
       "Name: count, dtype: int64"
      ]
     },
     "execution_count": 102,
     "metadata": {},
     "output_type": "execute_result"
    }
   ],
   "source": [
    "cleaned_df['county'].value_counts().head(10)"
   ]
  },
  {
   "cell_type": "code",
   "execution_count": 103,
   "id": "5fd82111",
   "metadata": {},
   "outputs": [
    {
     "data": {
      "text/plain": [
       "state\n",
       "Texas             193498\n",
       "Georgia           124105\n",
       "Virginia          103089\n",
       "Kentucky           92530\n",
       "Missouri           88089\n",
       "Kansas             79048\n",
       "Illinois           78835\n",
       "North Carolina     77808\n",
       "Iowa               76327\n",
       "Tennessee          74008\n",
       "Name: count, dtype: int64"
      ]
     },
     "execution_count": 103,
     "metadata": {},
     "output_type": "execute_result"
    }
   ],
   "source": [
    "cleaned_df['state'].value_counts().head(10)"
   ]
  },
  {
   "cell_type": "code",
   "execution_count": null,
   "id": "bfdedbde",
   "metadata": {},
   "outputs": [
    {
     "name": "stdout",
     "output_type": "stream",
     "text": [
      "           state          county    cases\n",
      "202   California     Los Angeles  2908425\n",
      "101      Arizona        Maricopa  1283590\n",
      "360      Florida      Miami-Dade  1209302\n",
      "608     Illinois            Cook  1193914\n",
      "2619       Texas          Harris  1032781\n",
      "220   California       San Diego   824586\n",
      "216   California       Riverside   626695\n",
      "323      Florida         Broward   614436\n",
      "213   California          Orange   600384\n",
      "219   California  San Bernardino   597377\n"
     ]
    }
   ],
   "source": [
    "top_counties = (\n",
    "    cleaned_df.sort_values('date')\n",
    "    .groupby(['state', 'county'], as_index=False)\n",
    "    .last()\n",
    "    .sort_values('cases', ascending=False)\n",
    "    .head(10)\n",
    ")\n",
    "print(top_counties[['state', 'county', 'cases']]) # Top 10 unique counties for cases"
   ]
  },
  {
   "cell_type": "code",
   "execution_count": 101,
   "id": "e625d79e",
   "metadata": {},
   "outputs": [
    {
     "name": "stdout",
     "output_type": "stream",
     "text": [
      "           state          county  deaths\n",
      "202   California     Los Angeles   32022\n",
      "101      Arizona        Maricopa   17326\n",
      "608     Illinois            Cook   14936\n",
      "2619       Texas          Harris   10972\n",
      "360      Florida      Miami-Dade   10921\n",
      "1747      Nevada           Clark    8458\n",
      "1310    Michigan           Wayne    7975\n",
      "219   California  San Bernardino    7423\n",
      "213   California          Orange    7023\n",
      "2575       Texas          Dallas    6772\n"
     ]
    }
   ],
   "source": [
    "top_deaths = (\n",
    "    cleaned_df.sort_values('date')\n",
    "    .groupby(['state', 'county'], as_index=False)\n",
    "    .last()\n",
    "    .sort_values('deaths', ascending=False)\n",
    "    .head(10)\n",
    ")\n",
    "print(top_deaths[['state', 'county', 'deaths']]) # Top 10 unique counties for deaths"
   ]
  },
  {
   "cell_type": "markdown",
   "id": "4b0210ba",
   "metadata": {},
   "source": [
    "## 4.1. Data Summary Report\n",
    "\n",
    "Based on the analysis and outputs from the previous cells, here is a summary of the key findings from the COVID-19 dataset:\n",
    "\n",
    "### Dataset Overview\n",
    "- **Shape:** The dataset contains a 2502832 rows and 6 columns, representing daily COVID-19 case and death counts for US counties.\n",
    "- **Columns:** The main columns include `date`, `county`, `state`, `fips`, `cases`, and `deaths`.\n",
    "\n",
    "### Data Cleaning\n",
    "- **Missing Values:** All rows with missing values were removed using `dropna()`.\n",
    "- **Duplicates:** Duplicate rows were dropped to ensure data integrity.\n",
    "- **Data Types:** Columns were converted to appropriate types:\n",
    "  - `date` as datetime\n",
    "  - `fips`, `cases`, and `deaths` as nullable integers (`Int64`)\n",
    "\n",
    "### Descriptive Statistics\n",
    "- **Cases:**\n",
    "  - **Minimum:** 1\n",
    "  - **Maximum:** 2,908,425\n",
    "  - **Mean:** ~9,962\n",
    "  - **Total Records:** 2,421,549\n",
    "- **Deaths:**\n",
    "  - **Minimum:** 0\n",
    "  - **Maximum:** 32,022\n",
    "  - **Mean:** ~152\n",
    "  - **Total Records:** 2,421,549\n",
    "\n",
    "### Most Affected Regions\n",
    "- **Top Counties by Cases:** The top 10 counties with the highest number of cases were identified.\n",
    "- **Top Counties by Deaths:** The top 10 counties with the highest number of deaths were also listed.\n",
    "\n",
    "### County and State Distribution\n",
    "- **Most Reported Counties:** The counties with the most records in the dataset were identified.\n",
    "- **Most Reported States:** The states with the most records were also listed.\n",
    "\n",
    "### Data Quality\n",
    "- After cleaning, the dataset is free of missing and duplicate values, and all columns have appropriate data types for analysis."
   ]
  },
  {
   "cell_type": "markdown",
   "id": "4d5a6fae",
   "metadata": {},
   "source": []
  }
 ],
 "metadata": {
  "kernelspec": {
   "display_name": "base",
   "language": "python",
   "name": "python3"
  },
  "language_info": {
   "codemirror_mode": {
    "name": "ipython",
    "version": 3
   },
   "file_extension": ".py",
   "mimetype": "text/x-python",
   "name": "python",
   "nbconvert_exporter": "python",
   "pygments_lexer": "ipython3",
   "version": "3.12.7"
  }
 },
 "nbformat": 4,
 "nbformat_minor": 5
}
